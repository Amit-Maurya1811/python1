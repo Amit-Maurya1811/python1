{
 "cells": [
  {
   "cell_type": "code",
   "execution_count": 1,
   "id": "a3112a09",
   "metadata": {},
   "outputs": [
    {
     "name": "stdout",
     "output_type": "stream",
     "text": [
      "Enter first number: 5\n",
      "Enter second number: 6\n",
      "Enter third number: 7\n",
      "Sum: 18.0, Average: 6.0\n"
     ]
    }
   ],
   "source": [
    "# Write a Python program to find the addition & average of three float numbers.\n",
    "a = float(input(\"Enter first number: \"))\n",
    "b = float(input(\"Enter second number: \"))\n",
    "c = float(input(\"Enter third number: \"))\n",
    "sum_numbers = a + b + c\n",
    "average = sum_numbers / 3\n",
    "print(f\"Sum: {sum_numbers}, Average: {average}\")\n",
    "\n"
   ]
  },
  {
   "cell_type": "code",
   "execution_count": 2,
   "id": "55e3a05e",
   "metadata": {},
   "outputs": [
    {
     "name": "stdout",
     "output_type": "stream",
     "text": [
      "Volume of the sphere: 904.7786842338603\n"
     ]
    }
   ],
   "source": [
    "#Write a Python program to find the volume of a sphere with radius 6 cm.\n",
    "import math\n",
    "radius = 6\n",
    "volume = (4/3) * math.pi * radius**3\n",
    "print(f\"Volume of the sphere: {volume}\")\n"
   ]
  },
  {
   "cell_type": "code",
   "execution_count": 3,
   "id": "bccd273f",
   "metadata": {},
   "outputs": [
    {
     "name": "stdout",
     "output_type": "stream",
     "text": [
      "Enter the radius of the circle: 6\n",
      "Area of the circle: 113.09733552923255\n"
     ]
    }
   ],
   "source": [
    "#Write a Python program to find the area of a circle.\n",
    "\n",
    "import math\n",
    "radius = float(input(\"Enter the radius of the circle: \"))\n",
    "area = math.pi * radius**2\n",
    "print(f\"Area of the circle: {area}\")\n"
   ]
  },
  {
   "cell_type": "code",
   "execution_count": 4,
   "id": "0e1a045e",
   "metadata": {},
   "outputs": [
    {
     "name": "stdout",
     "output_type": "stream",
     "text": [
      "Enter the principal amount: 1200\n",
      "Enter the rate of interest: 10\n",
      "Enter the time period: 4\n",
      "Simple Interest: 480.0\n"
     ]
    }
   ],
   "source": [
    "#Write a Python program to compute simple interest.\n",
    "\n",
    "P = float(input(\"Enter the principal amount: \"))\n",
    "R = float(input(\"Enter the rate of interest: \"))\n",
    "T = float(input(\"Enter the time period: \"))\n",
    "SI = (P * R * T) / 100\n",
    "print(f\"Simple Interest: {SI}\")\n"
   ]
  },
  {
   "cell_type": "code",
   "execution_count": 6,
   "id": "859a1e9e",
   "metadata": {},
   "outputs": [
    {
     "name": "stdout",
     "output_type": "stream",
     "text": [
      "Enter first number: 4\n",
      "Enter second number: 5\n",
      "After swapping: a = 5, b = 4\n"
     ]
    }
   ],
   "source": [
    "#Write a Python program to swap two numbers without using a third variable.\n",
    "\n",
    "a = int(input(\"Enter first number: \"))\n",
    "b = int(input(\"Enter second number: \"))\n",
    "a, b = b, a\n",
    "print(f\"After swapping: a = {a}, b = {b}\")"
   ]
  },
  {
   "cell_type": "code",
   "execution_count": 7,
   "id": "eb435c2f",
   "metadata": {},
   "outputs": [
    {
     "name": "stdout",
     "output_type": "stream",
     "text": [
      "Enter temperature in Celsius: 27\n",
      "Temperature in Fahrenheit: 80.6\n"
     ]
    }
   ],
   "source": [
    "#Write a Python program to convert any temperature from Celsius to Fahrenheit.\n",
    "\n",
    "celsius = float(input(\"Enter temperature in Celsius: \"))\n",
    "fahrenheit = (celsius * 9/5) + 32\n",
    "print(f\"Temperature in Fahrenheit: {fahrenheit}\")"
   ]
  },
  {
   "cell_type": "code",
   "execution_count": 8,
   "id": "8bbc7597",
   "metadata": {},
   "outputs": [
    {
     "name": "stdout",
     "output_type": "stream",
     "text": [
      "Enter number of days: 45\n",
      "0 years, 1 months, 2 weeks, and 1 days\n"
     ]
    }
   ],
   "source": [
    "#Write a Python program to convert a given number of days into days, month, year and week.\n",
    "\n",
    "days = int(input(\"Enter number of days: \"))\n",
    "years = days // 365\n",
    "months = (days % 365) // 30\n",
    "weeks = (days % 365 % 30) // 7\n",
    "remaining_days = days % 365 % 30 % 7\n",
    "print(f\"{years} years, {months} months, {weeks} weeks, and {remaining_days} days\")\n"
   ]
  },
  {
   "cell_type": "code",
   "execution_count": 9,
   "id": "75ae87ff",
   "metadata": {},
   "outputs": [
    {
     "name": "stdout",
     "output_type": "stream",
     "text": [
      "Enter mass of first object (kg): 67\n",
      "Enter mass of second object (kg): 45\n",
      "Enter distance between the objects (m): 5\n",
      "Gravitational Force: 8.0492058e-09 N\n"
     ]
    }
   ],
   "source": [
    "#Write a Python program to find the gravitational force acting between two objects.\n",
    "\n",
    "G = 6.67430e-11  # gravitational constant in m^3 kg^-1 s^-2\n",
    "m1 = float(input(\"Enter mass of first object (kg): \"))\n",
    "m2 = float(input(\"Enter mass of second object (kg): \"))\n",
    "d = float(input(\"Enter distance between the objects (m): \"))\n",
    "force = G * (m1 * m2) / d**2\n",
    "print(f\"Gravitational Force: {force} N\")"
   ]
  },
  {
   "cell_type": "code",
   "execution_count": 10,
   "id": "085a7772",
   "metadata": {},
   "outputs": [
    {
     "name": "stdout",
     "output_type": "stream",
     "text": [
      "Enter a number: 45\n",
      "Odd\n"
     ]
    }
   ],
   "source": [
    "#Write a Python program to find if the given number is even or odd.\n",
    "\n",
    "number = int(input(\"Enter a number: \"))\n",
    "if number % 2 == 0:\n",
    "    print(\"Even\")\n",
    "else:\n",
    "    print(\"Odd\")"
   ]
  },
  {
   "cell_type": "code",
   "execution_count": 11,
   "id": "949e088c",
   "metadata": {},
   "outputs": [
    {
     "name": "stdout",
     "output_type": "stream",
     "text": [
      "Enter a number: 25\n",
      "20\n"
     ]
    }
   ],
   "source": [
    "#Write a Python program to print two times of difference if it’s greater than 15 or four times of difference if less than 15.\n",
    "\n",
    "num = int(input(\"Enter a number: \"))\n",
    "diff = abs(num - 15)\n",
    "if num > 15:\n",
    "    print(2 * diff)\n",
    "else:\n",
    "    print(4 * diff)"
   ]
  },
  {
   "cell_type": "code",
   "execution_count": 13,
   "id": "91786c01",
   "metadata": {},
   "outputs": [
    {
     "name": "stdout",
     "output_type": "stream",
     "text": [
      "Enter first number: 4\n",
      "Enter second number: 7\n",
      "Enter third number: 2\n",
      "Largest number: 7.0\n"
     ]
    }
   ],
   "source": [
    "#Write a Python program to find the largest among three numbers.\n",
    "\n",
    "a = float(input(\"Enter first number: \"))\n",
    "b = float(input(\"Enter second number: \"))\n",
    "c = float(input(\"Enter third number: \"))\n",
    "largest = max(a, b, c)\n",
    "print(f\"Largest number: {largest}\")"
   ]
  },
  {
   "cell_type": "code",
   "execution_count": 14,
   "id": "f254aaca",
   "metadata": {},
   "outputs": [
    {
     "name": "stdout",
     "output_type": "stream",
     "text": [
      "Enter first side: 12\n",
      "Enter second side: 23\n",
      "Enter third side: 12\n",
      "Scalene Triangle\n"
     ]
    }
   ],
   "source": [
    "#Write a Python program to check a triangle is equilateral, scalene or isosceles.\n",
    "\n",
    "a = float(input(\"Enter first side: \"))\n",
    "b = float(input(\"Enter second side: \"))\n",
    "c = float(input(\"Enter third side: \"))\n",
    "\n",
    "if a == b == c:\n",
    "    print(\"Equilateral Triangle\")\n",
    "elif a != b != c:\n",
    "    print(\"Scalene Triangle\")\n",
    "else:\n",
    "    print(\"Isosceles Triangle\")\n"
   ]
  },
  {
   "cell_type": "code",
   "execution_count": 16,
   "id": "fcbe1b57",
   "metadata": {},
   "outputs": [
    {
     "name": "stdout",
     "output_type": "stream",
     "text": [
      "Enter a year: 2018\n",
      "2018 is not a leap year.\n"
     ]
    }
   ],
   "source": [
    "#Write a Python program to check if a given year is a leap year or not.\n",
    "\n",
    "year = int(input(\"Enter a year: \"))\n",
    "if (year % 4 == 0 and year % 100 != 0) or (year % 400 == 0):\n",
    "    print(f\"{year} is a leap year.\")\n",
    "else:\n",
    "    print(f\"{year} is not a leap year.\")\n"
   ]
  },
  {
   "cell_type": "code",
   "execution_count": 17,
   "id": "45264d7a",
   "metadata": {},
   "outputs": [
    {
     "name": "stdout",
     "output_type": "stream",
     "text": [
      "Enter marks for subject 1: 78\n",
      "Enter marks for subject 2: 89\n",
      "Enter marks for subject 3: 90\n",
      "Enter marks for subject 4: 98\n",
      "Average: 88.75, Grade: A\n"
     ]
    }
   ],
   "source": [
    "#Write a Python program to calculate student grades based on average marks of four subjects.\n",
    "\n",
    "marks = []\n",
    "for i in range(4):\n",
    "    marks.append(float(input(f\"Enter marks for subject {i+1}: \")))\n",
    "average = sum(marks) / 4\n",
    "\n",
    "if average >= 75:\n",
    "    grade = 'A'\n",
    "elif 60 <= average < 75:\n",
    "    grade = 'B'\n",
    "elif 40 <= average < 60:\n",
    "    grade = 'C'\n",
    "else:\n",
    "    grade = 'D'\n",
    "\n",
    "print(f\"Average: {average}, Grade: {grade}\")\n"
   ]
  },
  {
   "cell_type": "code",
   "execution_count": 19,
   "id": "7b7d74a3",
   "metadata": {},
   "outputs": [
    {
     "name": "stdout",
     "output_type": "stream",
     "text": [
      "Enter first number: 2\n",
      "Enter second number: 5\n",
      "Choose operation (+, -, *, /): +\n",
      "Result: 7.0\n"
     ]
    }
   ],
   "source": [
    "#Write a Python program to implement a simple calculator.\n",
    "\n",
    "def calculator():\n",
    "    num1 = float(input(\"Enter first number: \"))\n",
    "    num2 = float(input(\"Enter second number: \"))\n",
    "    operation = input(\"Choose operation (+, -, *, /): \")\n",
    "\n",
    "    if operation == '+':\n",
    "        print(f\"Result: {num1 + num2}\")\n",
    "    elif operation == '-':\n",
    "        print(f\"Result: {num1 - num2}\")\n",
    "    elif operation == '*':\n",
    "        print(f\"Result: {num1 * num2}\")\n",
    "    elif operation == '/':\n",
    "        print(f\"Result: {num1 / num2}\")\n",
    "    else:\n",
    "        print(\"Invalid operation\")\n",
    "calculator()"
   ]
  },
  {
   "cell_type": "code",
   "execution_count": 20,
   "id": "1893c684",
   "metadata": {},
   "outputs": [
    {
     "name": "stdout",
     "output_type": "stream",
     "text": [
      "Enter coefficient a: 3\n",
      "Enter coefficient b: 6\n",
      "Enter coefficient c: 1\n",
      "Roots are -0.18350341907227405 and -1.816496580927726\n"
     ]
    }
   ],
   "source": [
    "#Write a Python program to find the roots of a Quadratic equation.\n",
    "\n",
    "import math\n",
    "a = float(input(\"Enter coefficient a: \"))\n",
    "b = float(input(\"Enter coefficient b: \"))\n",
    "c = float(input(\"Enter coefficient c: \"))\n",
    "discriminant = b**2 - 4*a*c\n",
    "\n",
    "if discriminant > 0:\n",
    "    root1 = (-b + math.sqrt(discriminant)) / (2*a)\n",
    "    root2 = (-b - math.sqrt(discriminant)) / (2*a)\n",
    "    print(f\"Roots are {root1} and {root2}\")\n",
    "elif discriminant == 0:\n",
    "    root = -b / (2*a)\n",
    "    print(f\"Root is {root}\")\n",
    "else:\n",
    "    print(\"No real roots\")"
   ]
  },
  {
   "cell_type": "code",
   "execution_count": 21,
   "id": "e19ea3c9",
   "metadata": {},
   "outputs": [
    {
     "name": "stdout",
     "output_type": "stream",
     "text": [
      "Enter a number: 23\n",
      "1 2 3 4 5 6 7 8 9 10 11 12 13 14 15 16 17 18 19 20 21 22 23 "
     ]
    }
   ],
   "source": [
    "#Write a Python program to print numbers from 1 to n.\n",
    "\n",
    "n = int(input(\"Enter a number: \"))\n",
    "for i in range(1, n+1):\n",
    "    print(i, end=\" \")"
   ]
  },
  {
   "cell_type": "code",
   "execution_count": 22,
   "id": "9ceeb16f",
   "metadata": {},
   "outputs": [
    {
     "name": "stdout",
     "output_type": "stream",
     "text": [
      "Enter a number: 45\n",
      "Sum of natural numbers: 1035\n"
     ]
    }
   ],
   "source": [
    "#Write a Python program to print the sum of natural numbers.\n",
    "\n",
    "n = int(input(\"Enter a number: \"))\n",
    "sum_n = sum(range(1, n+1))\n",
    "print(f\"Sum of natural numbers: {sum_n}\")"
   ]
  },
  {
   "cell_type": "code",
   "execution_count": 23,
   "id": "a507b610",
   "metadata": {},
   "outputs": [
    {
     "name": "stdout",
     "output_type": "stream",
     "text": [
      "Enter a number: 45\n",
      "Sum of digits: 9\n"
     ]
    }
   ],
   "source": [
    "#Write a Python program to print the sum of digits of a number.\n",
    "\n",
    "num = int(input(\"Enter a number: \"))\n",
    "sum_digits = sum([int(digit) for digit in str(num)])\n",
    "print(f\"Sum of digits: {sum_digits}\")\n"
   ]
  },
  {
   "cell_type": "code",
   "execution_count": 24,
   "id": "67a6c51d",
   "metadata": {},
   "outputs": [
    {
     "name": "stdout",
     "output_type": "stream",
     "text": [
      "Enter a number: 56\n",
      "Factors of 56: [1, 2, 4, 7, 8, 14, 28, 56]\n"
     ]
    }
   ],
   "source": [
    "#Write a Python program to print factors of a number.\n",
    "\n",
    "num = int(input(\"Enter a number: \"))\n",
    "factors = [i for i in range(1, num+1) if num % i == 0]\n",
    "print(f\"Factors of {num}: {factors}\")\n"
   ]
  },
  {
   "cell_type": "code",
   "execution_count": 25,
   "id": "26c3995a",
   "metadata": {},
   "outputs": [
    {
     "name": "stdout",
     "output_type": "stream",
     "text": [
      "Enter a number: 123\n",
      "Reversed number: 321\n"
     ]
    }
   ],
   "source": [
    "#Write a Python program to print the reverse of a number.\n",
    "\n",
    "num = int(input(\"Enter a number: \"))\n",
    "reverse_num = int(str(num)[::-1])\n",
    "print(f\"Reversed number: {reverse_num}\")\n"
   ]
  },
  {
   "cell_type": "code",
   "execution_count": 27,
   "id": "ccaae6a0",
   "metadata": {},
   "outputs": [
    {
     "name": "stdout",
     "output_type": "stream",
     "text": [
      "Enter a number: 12\n",
      "Factorial of 12: 479001600\n"
     ]
    }
   ],
   "source": [
    "#Write a Python program to find the factorial of a number.\n",
    "\n",
    "def factorial(n):\n",
    "    if n == 0 or n == 1:\n",
    "        return 1\n",
    "    else:\n",
    "        return n * factorial(n-1)\n",
    "\n",
    "num = int(input(\"Enter a number: \"))\n",
    "print(f\"Factorial of {num}: {factorial(num)}\")\n",
    "    \n"
   ]
  },
  {
   "cell_type": "code",
   "execution_count": 28,
   "id": "935da88e",
   "metadata": {},
   "outputs": [
    {
     "name": "stdout",
     "output_type": "stream",
     "text": [
      "Enter a number: 121\n",
      "121 is a palindrome.\n"
     ]
    }
   ],
   "source": [
    "#Write a Python program to check if a number is palindrome or not.\n",
    "\n",
    "num = input(\"Enter a number: \")\n",
    "if num == num[::-1]:\n",
    "    print(f\"{num} is a palindrome.\")\n",
    "else:\n",
    "    print(f\"{num} is not a palindrome.\")"
   ]
  },
  {
   "cell_type": "code",
   "execution_count": 29,
   "id": "9cb95561",
   "metadata": {},
   "outputs": [
    {
     "name": "stdout",
     "output_type": "stream",
     "text": [
      "Enter a number: 23\n",
      "23 is a prime number.\n"
     ]
    }
   ],
   "source": [
    "#Write a Python program to check if a number is prime or not.\n",
    "\n",
    "num = int(input(\"Enter a number: \"))\n",
    "if num > 1:\n",
    "    for i in range(2, num):\n",
    "        if num % i == 0:\n",
    "            print(f\"{num} is not a prime number.\")\n",
    "            break\n",
    "    else:\n",
    "        print(f\"{num} is a prime number.\")\n",
    "else:\n",
    "    print(f\"{num} is not a prime number.\")\n"
   ]
  },
  {
   "cell_type": "code",
   "execution_count": 30,
   "id": "23c37719",
   "metadata": {},
   "outputs": [
    {
     "name": "stdout",
     "output_type": "stream",
     "text": [
      "Enter a number: 234\n",
      "234 is not an Armstrong number.\n"
     ]
    }
   ],
   "source": [
    "#Write a Python program to check if a number is Armstrong or not.\n",
    "\n",
    "num = int(input(\"Enter a number: \"))\n",
    "sum_of_cubes = sum([int(digit)**3 for digit in str(num)])\n",
    "if sum_of_cubes == num:\n",
    "    print(f\"{num} is an Armstrong number.\")\n",
    "else:\n",
    "    print(f\"{num} is not an Armstrong number.\")\n",
    "    "
   ]
  },
  {
   "cell_type": "code",
   "execution_count": 31,
   "id": "08a30108",
   "metadata": {},
   "outputs": [
    {
     "name": "stdout",
     "output_type": "stream",
     "text": [
      "Enter the number of terms: 12\n",
      "Fibonacci series: [0, 1, 1, 2, 3, 5, 8, 13, 21, 34, 55, 89]\n"
     ]
    }
   ],
   "source": [
    "#Write a Python program to print Fibonacci series of n terms.\n",
    "\n",
    "def fibonacci(n):\n",
    "    fib_sequence = [0, 1]\n",
    "    for i in range(2, n):\n",
    "        fib_sequence.append(fib_sequence[i-1] + fib_sequence[i-2])\n",
    "    return fib_sequence\n",
    "\n",
    "n = int(input(\"Enter the number of terms: \"))\n",
    "print(f\"Fibonacci series: {fibonacci(n)}\")\n"
   ]
  },
  {
   "cell_type": "code",
   "execution_count": 32,
   "id": "c6d41afe",
   "metadata": {},
   "outputs": [
    {
     "name": "stdout",
     "output_type": "stream",
     "text": [
      "Enter a number: 2\n",
      "2 x 1 = 2\n",
      "2 x 2 = 4\n",
      "2 x 3 = 6\n",
      "2 x 4 = 8\n",
      "2 x 5 = 10\n",
      "2 x 6 = 12\n",
      "2 x 7 = 14\n",
      "2 x 8 = 16\n",
      "2 x 9 = 18\n",
      "2 x 10 = 20\n"
     ]
    }
   ],
   "source": [
    "#Write a Python program to implement multiplication table.\n",
    "\n",
    "num = int(input(\"Enter a number: \"))\n",
    "for i in range(1, 11):\n",
    "    print(f\"{num} x {i} = {num * i}\")\n"
   ]
  },
  {
   "cell_type": "code",
   "execution_count": 33,
   "id": "f14b9d2f",
   "metadata": {},
   "outputs": [
    {
     "name": "stdout",
     "output_type": "stream",
     "text": [
      "How many elements in the list? 3\n",
      "Enter element 1: 23\n",
      "Enter element 2: 21\n",
      "Enter element 3: 24\n",
      "List: ['23', '21', '24']\n"
     ]
    }
   ],
   "source": [
    "#Write a Python program to take input from user in a list and print it.\n",
    "\n",
    "n = int(input(\"How many elements in the list? \"))\n",
    "lst = [input(f\"Enter element {i+1}: \") for i in range(n)]\n",
    "print(f\"List: {lst}\")\n"
   ]
  },
  {
   "cell_type": "code",
   "execution_count": 34,
   "id": "d4233911",
   "metadata": {},
   "outputs": [
    {
     "name": "stdout",
     "output_type": "stream",
     "text": [
      "Enter how many numbers: 2\n",
      "Enter number 1: 1235\n",
      "Enter number 2: 2345\n",
      "Average: 1790.0\n"
     ]
    }
   ],
   "source": [
    "#Write a Python program to find the average of n numbers using a list.\n",
    "\n",
    "n = int(input(\"Enter how many numbers: \"))\n",
    "numbers = [float(input(f\"Enter number {i+1}: \")) for i in range(n)]\n",
    "average = sum(numbers) / n\n",
    "print(f\"Average: {average}\")\n"
   ]
  },
  {
   "cell_type": "code",
   "execution_count": 35,
   "id": "fd481fb8",
   "metadata": {},
   "outputs": [
    {
     "name": "stdout",
     "output_type": "stream",
     "text": [
      "How many elements in the list? 3\n",
      "Enter element 1: 24\n",
      "Enter element 2: 12\n",
      "Enter element 3: 35\n",
      "Largest element: 35.0\n"
     ]
    }
   ],
   "source": [
    "#Write a Python program to find the largest element in the list.\n",
    "\n",
    "n = int(input(\"How many elements in the list? \"))\n",
    "lst = [float(input(f\"Enter element {i+1}: \")) for i in range(n)]\n",
    "largest = max(lst)\n",
    "print(f\"Largest element: {largest}\")\n"
   ]
  },
  {
   "cell_type": "code",
   "execution_count": 36,
   "id": "36555160",
   "metadata": {},
   "outputs": [
    {
     "name": "stdout",
     "output_type": "stream",
     "text": [
      "Enter the list elements separated by space: 23 4 53 12 42 11 23\n",
      "Enter the number to search: 42\n",
      "42 found at index 4\n"
     ]
    }
   ],
   "source": [
    "#Write a Python program to perform linear search.\n",
    "\n",
    "lst = [int(x) for x in input(\"Enter the list elements separated by space: \").split()]\n",
    "target = int(input(\"Enter the number to search: \"))\n",
    "\n",
    "found = False\n",
    "for i, num in enumerate(lst):\n",
    "    if num == target:\n",
    "        print(f\"{target} found at index {i}\")\n",
    "        found = True\n",
    "        break\n",
    "\n",
    "if not found:\n",
    "    print(f\"{target} not found in the list.\")\n"
   ]
  },
  {
   "cell_type": "code",
   "execution_count": 40,
   "id": "346d395d",
   "metadata": {},
   "outputs": [
    {
     "name": "stdout",
     "output_type": "stream",
     "text": [
      "Enter a line (leave blank to finish): amit\n",
      "Enter a line (leave blank to finish): maurya\n",
      "Enter a line (leave blank to finish): \n",
      "AMITMAURYA\n"
     ]
    }
   ],
   "source": [
    "#Write a Python program to capitalize all characters in a sentence.\n",
    "\n",
    "lines = []\n",
    "while True:\n",
    "    line = input(\"Enter a line (leave blank to finish): \")\n",
    "    if line:\n",
    "        lines.append(line.upper())\n",
    "    else:\n",
    "        break\n",
    "\n",
    "print(\"\".join(lines))\n"
   ]
  },
  {
   "cell_type": "code",
   "execution_count": 42,
   "id": "fc42a9e1",
   "metadata": {},
   "outputs": [
    {
     "name": "stdout",
     "output_type": "stream",
     "text": [
      "Enter comma-separated numbers: 1,23,43,21,12\n",
      "List: ['1', '23', '43', '21', '12']\n",
      "Tuple: ('1', '23', '43', '21', '12')\n"
     ]
    }
   ],
   "source": [
    "#Write a Python program to accept a sequence of comma-separated numbers and generate a list and a tuple.\n",
    "\n",
    "values = input(\"Enter comma-separated numbers: \")\n",
    "lst = values.split(\",\")\n",
    "tpl = tuple(lst)\n",
    "print(f\"List: {lst}\")\n",
    "print(f\"Tuple: {tpl}\")\n"
   ]
  },
  {
   "cell_type": "code",
   "execution_count": 43,
   "id": "8dcc0ec4",
   "metadata": {},
   "outputs": [
    {
     "name": "stdout",
     "output_type": "stream",
     "text": [
      "Enter transaction (e.g., 'D 100' or 'W 200', blank to end): D 100\n",
      "Enter transaction (e.g., 'D 100' or 'W 200', blank to end): \n",
      "Net balance: 100\n"
     ]
    }
   ],
   "source": [
    "#Write a Python program that computes the net amount of a bank account based on a transaction log.\n",
    "\n",
    "balance = 0\n",
    "while True:\n",
    "    transaction = input(\"Enter transaction (e.g., 'D 100' or 'W 200', blank to end): \")\n",
    "    if not transaction:\n",
    "        break\n",
    "    type_trans, amount = transaction.split()\n",
    "    amount = int(amount)\n",
    "\n",
    "    if type_trans == 'D':\n",
    "        balance += amount\n",
    "    elif type_trans == 'W':\n",
    "        balance -= amount\n",
    "\n",
    "print(f\"Net balance: {balance}\")\n"
   ]
  },
  {
   "cell_type": "code",
   "execution_count": null,
   "id": "4999bf36",
   "metadata": {},
   "outputs": [],
   "source": []
  }
 ],
 "metadata": {
  "kernelspec": {
   "display_name": "Python 3 (ipykernel)",
   "language": "python",
   "name": "python3"
  },
  "language_info": {
   "codemirror_mode": {
    "name": "ipython",
    "version": 3
   },
   "file_extension": ".py",
   "mimetype": "text/x-python",
   "name": "python",
   "nbconvert_exporter": "python",
   "pygments_lexer": "ipython3",
   "version": "3.11.5"
  }
 },
 "nbformat": 4,
 "nbformat_minor": 5
}
